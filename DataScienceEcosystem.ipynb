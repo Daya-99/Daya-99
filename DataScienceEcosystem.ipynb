{
 "cells": [
  {
   "cell_type": "markdown",
   "id": "6be1ad5a-6ff5-434d-8e3d-823d25ab516e",
   "metadata": {},
   "source": [
    "<h1>Data Science Tools and Ecosystem</h1>"
   ]
  },
  {
   "cell_type": "markdown",
   "id": "532ee4e7-c98b-483f-a36f-210fc5d8915a",
   "metadata": {},
   "source": [
    "In this notebook, Data Science Tools and Ecosystem are summarized."
   ]
  },
  {
   "cell_type": "markdown",
   "id": "a65d507e-21d9-4480-9512-e0022944a1a2",
   "metadata": {
    "tags": []
   },
   "source": [
    "<b>Objectives:</b>\n",
    "    <ul>\n",
    "  <li>python</li>\n",
    "  <li>R</li>\n",
    "  <li>SQL</li>\n",
    "  <li>java</li>\n",
    "  <li>julia</li>\n",
    "</ul>\n"
   ]
  },
  {
   "cell_type": "markdown",
   "id": "6987e75a-8838-492e-8f7b-6ef92d30e54c",
   "metadata": {},
   "source": [
    "Some of the popular languages that Data Scientists use are:\n",
    "      <ol>\n",
    "  <li>python</li>\n",
    "  <li>R</li>\n",
    "  <li>SQL</li>\n",
    "</ol>\n",
    "    "
   ]
  },
  {
   "cell_type": "markdown",
   "id": "8ee10d31-6864-4b59-a216-47809e82d31e",
   "metadata": {},
   "source": [
    "Some of the commonly used libraries used by Data Scientists include:\n",
    "<ol>\n",
    "  <li>pandas</li>\n",
    "  <li>NUMPY</li>\n",
    "  <li>MATPLOTLIB</li>\n",
    "</ol>"
   ]
  },
  {
   "cell_type": "markdown",
   "id": "9a87d399-7a79-4433-938f-8c9f5a114ff6",
   "metadata": {
    "tags": []
   },
   "source": [
    "<table>\n",
    "  <tr>\n",
    "    <th>Data Science Tools</th>\n",
    "</tr>\n",
    "<tr>\n",
    "   <td>RStudio</td>\n",
    "</tr>\n",
    "<tr>\n",
    "   <td>Jupyter</td>\n",
    "</tr>\n",
    "<tr>\n",
    "   <td>Spyder</td>\n",
    "</tr>\n",
    "</table>"
   ]
  },
  {
   "cell_type": "markdown",
   "id": "c40c2f2b-a9c1-4678-9c35-4edb50519335",
   "metadata": {
    "tags": []
   },
   "source": [
    "<h3>Below are a few examples of evaluating arithmetic expressions in Python</h3>"
   ]
  },
  {
   "cell_type": "code",
   "execution_count": 7,
   "id": "df879343-434e-42cc-9189-8b6f7e4579ad",
   "metadata": {
    "tags": []
   },
   "outputs": [],
   "source": [
    "#this a simple arithmetic expression to mutiply then add integers"
   ]
  },
  {
   "cell_type": "code",
   "execution_count": 8,
   "id": "c72cf3d9-bb91-4b45-b9cc-4a8b164c8f34",
   "metadata": {
    "tags": []
   },
   "outputs": [
    {
     "data": {
      "text/plain": [
       "17"
      ]
     },
     "execution_count": 8,
     "metadata": {},
     "output_type": "execute_result"
    }
   ],
   "source": [
    "(3*4)+5"
   ]
  },
  {
   "cell_type": "code",
   "execution_count": 9,
   "id": "a184d563-1f1a-4382-85c7-7d2cb08ea32c",
   "metadata": {
    "tags": []
   },
   "outputs": [],
   "source": [
    "#This will convert 200 minutes to hours by diving by 60"
   ]
  },
  {
   "cell_type": "code",
   "execution_count": 18,
   "id": "8b37a6a9-ddf9-458a-9a59-0805c8786c87",
   "metadata": {
    "tags": []
   },
   "outputs": [
    {
     "data": {
      "text/plain": [
       "3.33"
      ]
     },
     "execution_count": 18,
     "metadata": {},
     "output_type": "execute_result"
    }
   ],
   "source": [
    "x=200/60\n",
    "round (x,2)"
   ]
  },
  {
   "cell_type": "markdown",
   "id": "37d6fd1b-f903-47cc-a161-b778b729b5b2",
   "metadata": {},
   "source": [
    "<h2>Author</h2>\n",
    "<p1>Kumar<p1>"
   ]
  },
  {
   "cell_type": "code",
   "execution_count": null,
   "id": "1664f880-1c6b-474a-8b26-fc48fe2b3a70",
   "metadata": {},
   "outputs": [],
   "source": []
  }
 ],
 "metadata": {
  "kernelspec": {
   "display_name": "Python",
   "language": "python",
   "name": "conda-env-python-py"
  },
  "language_info": {
   "codemirror_mode": {
    "name": "ipython",
    "version": 3
   },
   "file_extension": ".py",
   "mimetype": "text/x-python",
   "name": "python",
   "nbconvert_exporter": "python",
   "pygments_lexer": "ipython3",
   "version": "3.7.12"
  }
 },
 "nbformat": 4,
 "nbformat_minor": 5
}
